{
 "cells": [
  {
   "cell_type": "markdown",
   "id": "846e4795",
   "metadata": {},
   "source": [
    "### Test the environment\n",
    "\n",
    "* check some versions\n",
    "* che if GPU is available"
   ]
  },
  {
   "cell_type": "code",
   "execution_count": 4,
   "id": "7f7c5acd",
   "metadata": {},
   "outputs": [],
   "source": [
    "import cv2\n",
    "import torch\n",
    "import oci\n",
    "import ads"
   ]
  },
  {
   "cell_type": "code",
   "execution_count": 5,
   "id": "8503464e",
   "metadata": {},
   "outputs": [
    {
     "name": "stdout",
     "output_type": "stream",
     "text": [
      "CV2 version is: 4.5.3\n",
      "PyTorch version is: 1.10.0\n",
      "OCI version is: 2.52.1\n",
      "ADS version is: 2.5.4\n"
     ]
    }
   ],
   "source": [
    "print(f\"CV2 version is: {cv2.__version__}\")\n",
    "print(f\"PyTorch version is: {torch.__version__}\")\n",
    "print(f\"OCI version is: {oci.__version__}\")\n",
    "print(f\"ADS version is: {ads.__version__}\")"
   ]
  },
  {
   "cell_type": "code",
   "execution_count": 7,
   "id": "35004cf4",
   "metadata": {},
   "outputs": [
    {
     "name": "stdout",
     "output_type": "stream",
     "text": [
      "Is GPU available for PyTorch? True\n"
     ]
    }
   ],
   "source": [
    "# check if PyTorch can use GPU\n",
    "print(f\"Is GPU available for PyTorch? {torch.cuda.is_available()}\")"
   ]
  },
  {
   "cell_type": "code",
   "execution_count": null,
   "id": "7222b8d8",
   "metadata": {},
   "outputs": [],
   "source": []
  }
 ],
 "metadata": {
  "kernelspec": {
   "display_name": "Python [conda env:computervision_p37_gpu_v1]",
   "language": "python",
   "name": "conda-env-computervision_p37_gpu_v1-py"
  },
  "language_info": {
   "codemirror_mode": {
    "name": "ipython",
    "version": 3
   },
   "file_extension": ".py",
   "mimetype": "text/x-python",
   "name": "python",
   "nbconvert_exporter": "python",
   "pygments_lexer": "ipython3",
   "version": "3.7.8"
  }
 },
 "nbformat": 4,
 "nbformat_minor": 5
}
