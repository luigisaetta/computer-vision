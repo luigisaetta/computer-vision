{
 "cells": [
  {
   "cell_type": "markdown",
   "id": "1156b1c0",
   "metadata": {},
   "source": [
    "### Convert Flickr27 logos dataset to YOLO V5 format\n",
    "\n",
    "This Notebook contains the code needed to convert annotation for the Flickr27 dataset in YOLO v7 format"
   ]
  },
  {
   "cell_type": "code",
   "execution_count": 1,
   "id": "46c72bac",
   "metadata": {},
   "outputs": [],
   "source": [
    "import cv2\n",
    "import os\n",
    "\n",
    "import pandas as pd\n",
    "import numpy as np\n",
    "\n",
    "import matplotlib.pyplot as plt\n",
    "\n",
    "%matplotlib inline"
   ]
  },
  {
   "cell_type": "code",
   "execution_count": 2,
   "id": "f38d190f",
   "metadata": {},
   "outputs": [],
   "source": [
    "# the txt file format for a line is\n",
    "# 144503924.jpg Adidas 1 38 12 234 142\n",
    "# where 1 after Adidas is the split number\n",
    "\n",
    "# Image filename\n",
    "# Class name\n",
    "# Training subset of class (1,...,6)\n",
    "# Coordinates of the top left and bottom right corners (x1 y1 x2 y2)"
   ]
  },
  {
   "cell_type": "code",
   "execution_count": 3,
   "id": "dc47cc61",
   "metadata": {},
   "outputs": [],
   "source": [
    "#\n",
    "# functions\n",
    "#\n",
    "\n",
    "# does the conversion for a single BB\n",
    "def convert_bb_2_yolov5(flickr_BB, image_height, image_width):\n",
    "    \n",
    "    # flickr_BB is (x1 y1 x2 y2)\n",
    "    x1 = flickr_BB[0]\n",
    "    y1 = flickr_BB[1]\n",
    "    x2 = flickr_BB[2]\n",
    "    y2 = flickr_BB[3]\n",
    "    \n",
    "    # check\n",
    "    assert x1 <= image_width\n",
    "    assert x2 <= image_width\n",
    "    assert y1 <= image_height\n",
    "    assert y2 <= image_height\n",
    "    \n",
    "    # compute xc, yc, must be scaled\n",
    "    xc = (x1 + x2)/(2. * image_width)\n",
    "    yc = (y1 + y2)/(2. * image_height)\n",
    "    \n",
    "    hgt = (y2 - y1)/image_height\n",
    "    wdt = (x2 - x1)/image_width\n",
    "    \n",
    "    # yolo_BB is <xc> <yc> <width> <height> scaled\n",
    "    yolo_BB = [xc, yc, wdt, hgt]\n",
    "    \n",
    "    return yolo_BB\n",
    "    \n",
    "# test returning back\n",
    "def yolo_2_cv2(yolo_bb, image_hgt, image_wdt):\n",
    "    # yolobb is an array of 4 float number <x> <y> <width> <height>\n",
    "    assert (len(yolo_bb) == 4)\n",
    "    \n",
    "    # image_hgt, image_wdt are in pixels\n",
    "    \n",
    "    # compute absolute pixels of center\n",
    "    xc = int(yolo_bb[0] * image_wdt)\n",
    "    yc = int(yolo_bb[1] * image_hgt)\n",
    "    \n",
    "    half_abs_wdt = int((yolo_bb[2] * image_wdt)/2)\n",
    "    half_abs_hgt = int((yolo_bb[3] * image_hgt)/2)\n",
    "    \n",
    "    start_point = (xc - half_abs_wdt , yc - half_abs_hgt)\n",
    "    end_point = (xc + half_abs_wdt, yc + half_abs_hgt)\n",
    "    \n",
    "    return start_point, end_point"
   ]
  },
  {
   "cell_type": "code",
   "execution_count": 4,
   "id": "26615061",
   "metadata": {},
   "outputs": [],
   "source": [
    "# globals\n",
    "\n",
    "# file with annotations\n",
    "ANNOT_FILE = \"flickr_logos_27_dataset_training_set_annotation.txt\"\n",
    "\n",
    "SORTED_ANNOT_FILE = \"sorted_flickr_logos_27_dataset_training_set_annotation.txt\"\n",
    "\n",
    "# the directory containing jpg files\n",
    "IMAGES_INPUT_DIR = \"flickr_logos_27_dataset_images/\"\n",
    "\n",
    "# the directory in which we produce annotations files in YOLO V% PyTorch format\n",
    "OUTPUT_DIR = \"./flickr_logos_27_yolo_annotations\""
   ]
  },
  {
   "cell_type": "markdown",
   "id": "f0841362",
   "metadata": {},
   "source": [
    "### Build the output dir, if not existing"
   ]
  },
  {
   "cell_type": "code",
   "execution_count": 5,
   "id": "54b8f116",
   "metadata": {},
   "outputs": [],
   "source": [
    "if not os.path.exists(OUTPUT_DIR):\n",
    "    os.mkdir(OUTPUT_DIR)"
   ]
  },
  {
   "cell_type": "code",
   "execution_count": 6,
   "id": "c185144b",
   "metadata": {},
   "outputs": [],
   "source": [
    "### analyze the annotations files"
   ]
  },
  {
   "cell_type": "code",
   "execution_count": 7,
   "id": "e9e6163d",
   "metadata": {},
   "outputs": [
    {
     "data": {
      "text/html": [
       "<div>\n",
       "<style scoped>\n",
       "    .dataframe tbody tr th:only-of-type {\n",
       "        vertical-align: middle;\n",
       "    }\n",
       "\n",
       "    .dataframe tbody tr th {\n",
       "        vertical-align: top;\n",
       "    }\n",
       "\n",
       "    .dataframe thead th {\n",
       "        text-align: right;\n",
       "    }\n",
       "</style>\n",
       "<table border=\"1\" class=\"dataframe\">\n",
       "  <thead>\n",
       "    <tr style=\"text-align: right;\">\n",
       "      <th></th>\n",
       "      <th>file_name</th>\n",
       "      <th>brand_name</th>\n",
       "      <th>split_num</th>\n",
       "      <th>x1</th>\n",
       "      <th>y1</th>\n",
       "      <th>x2</th>\n",
       "      <th>y2</th>\n",
       "    </tr>\n",
       "  </thead>\n",
       "  <tbody>\n",
       "    <tr>\n",
       "      <th>0</th>\n",
       "      <td>144503924.jpg</td>\n",
       "      <td>Adidas</td>\n",
       "      <td>1</td>\n",
       "      <td>38</td>\n",
       "      <td>12</td>\n",
       "      <td>234</td>\n",
       "      <td>142</td>\n",
       "    </tr>\n",
       "    <tr>\n",
       "      <th>1</th>\n",
       "      <td>2451569770.jpg</td>\n",
       "      <td>Adidas</td>\n",
       "      <td>1</td>\n",
       "      <td>242</td>\n",
       "      <td>208</td>\n",
       "      <td>413</td>\n",
       "      <td>331</td>\n",
       "    </tr>\n",
       "    <tr>\n",
       "      <th>2</th>\n",
       "      <td>390321909.jpg</td>\n",
       "      <td>Adidas</td>\n",
       "      <td>1</td>\n",
       "      <td>13</td>\n",
       "      <td>5</td>\n",
       "      <td>89</td>\n",
       "      <td>60</td>\n",
       "    </tr>\n",
       "    <tr>\n",
       "      <th>3</th>\n",
       "      <td>4761260517.jpg</td>\n",
       "      <td>Adidas</td>\n",
       "      <td>1</td>\n",
       "      <td>43</td>\n",
       "      <td>122</td>\n",
       "      <td>358</td>\n",
       "      <td>354</td>\n",
       "    </tr>\n",
       "    <tr>\n",
       "      <th>4</th>\n",
       "      <td>4763210295.jpg</td>\n",
       "      <td>Adidas</td>\n",
       "      <td>1</td>\n",
       "      <td>83</td>\n",
       "      <td>63</td>\n",
       "      <td>130</td>\n",
       "      <td>93</td>\n",
       "    </tr>\n",
       "  </tbody>\n",
       "</table>\n",
       "</div>"
      ],
      "text/plain": [
       "        file_name brand_name  split_num   x1   y1   x2   y2\n",
       "0   144503924.jpg     Adidas          1   38   12  234  142\n",
       "1  2451569770.jpg     Adidas          1  242  208  413  331\n",
       "2   390321909.jpg     Adidas          1   13    5   89   60\n",
       "3  4761260517.jpg     Adidas          1   43  122  358  354\n",
       "4  4763210295.jpg     Adidas          1   83   63  130   93"
      ]
     },
     "execution_count": 7,
     "metadata": {},
     "output_type": "execute_result"
    }
   ],
   "source": [
    "col_names = ['file_name', 'brand_name', 'split_num', 'x1', 'y1', 'x2', 'y2']\n",
    "\n",
    "annot_df = pd.read_csv(ANNOT_FILE, sep=\" \", header=None, names=col_names, index_col=False)\n",
    "\n",
    "annot_df.head()"
   ]
  },
  {
   "cell_type": "code",
   "execution_count": 8,
   "id": "b15ff463",
   "metadata": {},
   "outputs": [],
   "source": [
    "# better this way: list of all brands\n",
    "BRANDS = sorted(annot_df['brand_name']. unique())\n",
    "\n",
    "N_BRANDS = len(BRANDS)"
   ]
  },
  {
   "cell_type": "code",
   "execution_count": 9,
   "id": "e87aac2c",
   "metadata": {},
   "outputs": [
    {
     "name": "stdout",
     "output_type": "stream",
     "text": [
      "There are 809 distinct images\n",
      "There are 4536 rows\n",
      "We have 27 brands in the dataset\n"
     ]
    }
   ],
   "source": [
    "print(f\"There are {annot_df['file_name'].nunique()} distinct images\")\n",
    "print(f\"There are {annot_df.shape[0]} rows\")\n",
    "print(f\"We have {N_BRANDS} brands in the dataset\")"
   ]
  },
  {
   "cell_type": "code",
   "execution_count": 10,
   "id": "95e26ad4",
   "metadata": {},
   "outputs": [],
   "source": [
    "# we don't need the split columns and we need to remove duplicates (same rows in different split)\n",
    "# removing duplicates and splits, processing is much faster\n",
    "annot_df = annot_df.drop(columns=['split_num'])\n",
    "\n",
    "# remove duplicates (due to splits)\n",
    "annot_df = annot_df.drop_duplicates()\n",
    "\n",
    "# the original file is not sorted. We need to sort to better process it\n",
    "# sort on file_name\n",
    "annot_df = annot_df.sort_values('file_name')\n",
    "\n",
    "# save the sorted annotation file\n",
    "annot_df.to_csv(SORTED_ANNOT_FILE, sep= ' ', index=None, header=None)"
   ]
  },
  {
   "cell_type": "code",
   "execution_count": 11,
   "id": "be47db3f",
   "metadata": {},
   "outputs": [
    {
     "name": "stdout",
     "output_type": "stream",
     "text": [
      "{0: 'Adidas', 1: 'Apple', 2: 'BMW', 3: 'Citroen', 4: 'Cocacola', 5: 'DHL', 6: 'Fedex', 7: 'Ferrari', 8: 'Ford', 9: 'Google', 10: 'HP', 11: 'Heineken', 12: 'Intel', 13: 'McDonalds', 14: 'Mini', 15: 'Nbc', 16: 'Nike', 17: 'Pepsi', 18: 'Porsche', 19: 'Puma', 20: 'RedBull', 21: 'Sprite', 22: 'Starbucks', 23: 'Texaco', 24: 'Unicef', 25: 'Vodafone', 26: 'Yahoo'}\n"
     ]
    }
   ],
   "source": [
    "# code the brands (starting with 0)\n",
    "dict_brands = {}\n",
    "\n",
    "for i, brand in enumerate(BRANDS):\n",
    "    dict_brands[i] = brand\n",
    "\n",
    "inv_dict_brands = {v: k for k, v in dict_brands.items()}\n",
    "\n",
    "print(dict_brands)"
   ]
  },
  {
   "cell_type": "code",
   "execution_count": 12,
   "id": "f6bd39ec",
   "metadata": {},
   "outputs": [
    {
     "name": "stdout",
     "output_type": "stream",
     "text": [
      "{'Adidas': 0, 'Apple': 1, 'BMW': 2, 'Citroen': 3, 'Cocacola': 4, 'DHL': 5, 'Fedex': 6, 'Ferrari': 7, 'Ford': 8, 'Google': 9, 'HP': 10, 'Heineken': 11, 'Intel': 12, 'McDonalds': 13, 'Mini': 14, 'Nbc': 15, 'Nike': 16, 'Pepsi': 17, 'Porsche': 18, 'Puma': 19, 'RedBull': 20, 'Sprite': 21, 'Starbucks': 22, 'Texaco': 23, 'Unicef': 24, 'Vodafone': 25, 'Yahoo': 26}\n"
     ]
    }
   ],
   "source": [
    "# inverse dict\n",
    "print(inv_dict_brands)"
   ]
  },
  {
   "cell_type": "markdown",
   "id": "3c453a89",
   "metadata": {},
   "source": [
    "### Do some tests"
   ]
  },
  {
   "cell_type": "code",
   "execution_count": 21,
   "id": "49b865ff",
   "metadata": {},
   "outputs": [
    {
     "data": {
      "image/png": "[encoded data removed]",
      "text/plain": [
       "<Figure size 864x648 with 1 Axes>"
      ]
     },
     "metadata": {
      "needs_background": "light"
     },
     "output_type": "display_data"
    }
   ],
   "source": [
    "IMAGE_NAME = IMAGES_INPUT_DIR + \"/\" + \"1075391489.jpg\"\n",
    "\n",
    "# read the image from the file\n",
    "image = cv2.imread(IMAGE_NAME)\n",
    "# we need it otherwise blue becomes red (checked on Mac). CV2 when read the image use BGR\n",
    "image = cv2.cvtColor(image, cv2.COLOR_BGR2RGB)\n",
    "\n",
    "plt.figure(figsize=(12, 9))\n",
    "plt.imshow(image);"
   ]
  },
  {
   "cell_type": "code",
   "execution_count": 14,
   "id": "87c55eaf",
   "metadata": {},
   "outputs": [],
   "source": [
    "# the row from flickr annotation file\n",
    "# 144503924.jpg Adidas 1 38 12 234 142\n",
    "# 2451569770.jpg Adidas 1 242 208 413 331 \n",
    "# 1075391489.jpg Nbc 6 2 4 77 58"
   ]
  },
  {
   "cell_type": "code",
   "execution_count": 15,
   "id": "09f50cf5",
   "metadata": {},
   "outputs": [
    {
     "data": {
      "image/png": "[encoded data removed]",
      "text/plain": [
       "<Figure size 864x648 with 1 Axes>"
      ]
     },
     "metadata": {
      "needs_background": "light"
     },
     "output_type": "display_data"
    }
   ],
   "source": [
    "# add the BB\n",
    "\n",
    "#flickr_BB has the format expected by CV2 no conversion needed\n",
    "start_point = (2, 4) \n",
    "end_point = (77, 58)\n",
    "\n",
    "# for plotting\n",
    "# Red color in RGB (image is already in RGB)\n",
    "color = (255, 0, 0)\n",
    "  \n",
    "# Line thickness of 1 px\n",
    "thickness = 1\n",
    "  \n",
    "# Using cv2.rectangle() method\n",
    "# Draw a rectangle with red line borders of thickness of 2 px\n",
    "image = cv2.rectangle(image, start_point, end_point, color, thickness)\n",
    "\n",
    "plt.figure(figsize=(12, 9))\n",
    "plt.imshow(image);"
   ]
  },
  {
   "cell_type": "code",
   "execution_count": 16,
   "id": "f8224697",
   "metadata": {},
   "outputs": [
    {
     "data": {
      "text/plain": [
       "[0.21944444444444444,\n",
       " 0.4696969696969697,\n",
       " 0.4166666666666667,\n",
       " 0.8181818181818182]"
      ]
     },
     "execution_count": 16,
     "metadata": {},
     "output_type": "execute_result"
    }
   ],
   "source": [
    "# test the conversion function\n",
    "flickr_BB = [2, 4, 77, 58]\n",
    "\n",
    "image_height = image.shape[0]\n",
    "image_width = image.shape[1]\n",
    "\n",
    "yolo_BB = convert_bb_2_yolov5(flickr_BB, image_height, image_width)\n",
    "\n",
    "yolo_BB"
   ]
  },
  {
   "cell_type": "code",
   "execution_count": 17,
   "id": "6dafe222",
   "metadata": {},
   "outputs": [
    {
     "data": {
      "text/plain": [
       "((2, 4), (76, 58))"
      ]
     },
     "execution_count": 17,
     "metadata": {},
     "output_type": "execute_result"
    }
   ],
   "source": [
    "flickr_back_BB = yolo_2_cv2(yolo_BB, image_height, image_width)\n",
    "\n",
    "flickr_back_BB"
   ]
  },
  {
   "cell_type": "code",
   "execution_count": 18,
   "id": "82055245",
   "metadata": {},
   "outputs": [],
   "source": [
    "# OK"
   ]
  },
  {
   "cell_type": "markdown",
   "id": "4801158e",
   "metadata": {},
   "source": [
    "### Batch conversion in YOLO V5 PyTorch format\n",
    "\n",
    "produce a .txt for each image\n",
    "for each object and BB there is a row in the file\n",
    "<object-class> <xc> <yc> <width> <height>\n",
    "    \n",
    "we assume that the flickr annotation file is ordered on image name. If the image name changes, it has finished with that image"
   ]
  },
  {
   "cell_type": "code",
   "execution_count": 19,
   "id": "2a79781b",
   "metadata": {},
   "outputs": [
    {
     "name": "stdout",
     "output_type": "stream",
     "text": [
      "Reading and processing records from annotation file...\n",
      "read 100 records...\n",
      "read 200 records...\n",
      "read 300 records...\n",
      "read 400 records...\n",
      "read 500 records...\n",
      "read 600 records...\n",
      "read 700 records...\n",
      "read 800 records...\n",
      "read 900 records...\n",
      "read 1000 records...\n",
      "read 1100 records...\n",
      "read 1200 records...\n",
      "\n",
      "total images 809\n",
      "total reads 1261\n",
      "total anomalies 0\n",
      "\n",
      "CPU times: user 3min 21s, sys: 25.9 s, total: 3min 47s\n",
      "Wall time: 10.6 s\n"
     ]
    }
   ],
   "source": [
    "%%time\n",
    "\n",
    "# line is: 144503924.jpg Adidas 38 12 234 142 \n",
    "# split_num has been removed\n",
    "\n",
    "# output will be produced in OUTPUT_DIR (see above)\n",
    "\n",
    "n_images = 0\n",
    "n_reads = 0\n",
    "n_anomalies = 0\n",
    "old_image_name = \"NA\"\n",
    "annot_file_name = \"\"\n",
    "obj_file = None\n",
    "\n",
    "with open(SORTED_ANNOT_FILE, \"r\") as file:\n",
    "    print(\"Reading and processing records from annotation file...\")\n",
    "    for line in file:\n",
    "        fields = line.split(\" \")\n",
    "        \n",
    "        img_name = fields[0]\n",
    "        \n",
    "        logo = fields[1]\n",
    "        coded_logo = inv_dict_brands[logo]\n",
    "        \n",
    "        # sorted file doesn't contain split_num (removed)\n",
    "        \n",
    "        # BB rectangle\n",
    "        # need to convert to int and remove '\\n' for the last value\n",
    "        flickr27_BB = np.array(fields[2:6], dtype = 'int32')\n",
    "        \n",
    "        # check if image changed to see if need to create a new file\n",
    "        if old_image_name != img_name:\n",
    "            # image changed: new image\n",
    "            n_images += 1\n",
    "            \n",
    "            # prepare for next step\n",
    "            old_image_name = img_name\n",
    "            \n",
    "            # remove .jpg\n",
    "            parts_img_name = img_name.split(\".\")\n",
    "            # new file name\n",
    "            annot_file_name = parts_img_name[0] + \".txt\"\n",
    "            annot_file_pathname = OUTPUT_DIR + \"/\" + annot_file_name\n",
    "            \n",
    "            # close the old file and open a new one\n",
    "            if (obj_file is not None) and (obj_file.closed == False):\n",
    "                obj_file.close()\n",
    "                \n",
    "            obj_file = open(annot_file_pathname, mode=\"w\") \n",
    "            \n",
    "        # compute yolo BB\n",
    "        try:\n",
    "            # need to read each images to get hgt and wdt, needed for the conversion\n",
    "            image = cv2.imread(IMAGES_INPUT_DIR + \"/\" + img_name)\n",
    "            image = cv2.cvtColor(image, cv2.COLOR_BGR2RGB)\n",
    "            hgt, wdt, channels = image.shape\n",
    "            \n",
    "            # convert\n",
    "            yolo_BB = convert_bb_2_yolov5(flickr27_BB, hgt, wdt)\n",
    "            \n",
    "            # write in txt file (<object-class> <x> <y> <width> <height>)\n",
    "            my_record = f\"{coded_logo} {yolo_BB[0]} {yolo_BB[1]} {yolo_BB[2]} {yolo_BB[3]}\\n\"\n",
    "            obj_file.write(my_record)\n",
    "            \n",
    "            n_reads += 1\n",
    "            \n",
    "            # print progress\n",
    "            if n_reads%100 == 0:\n",
    "                print(f\"read {n_reads} records...\")\n",
    "                \n",
    "        except Exception as e:\n",
    "            n_anomalies += 1\n",
    "            print('Exception on image:')\n",
    "            print(img_name)\n",
    "            print(flickr27_BB)\n",
    "            print(e)\n",
    "    \n",
    "    # closing last\n",
    "    if (obj_file is not None) and (obj_file.closed == False):\n",
    "        obj_file.close()\n",
    "            \n",
    "    print()\n",
    "    print(f\"total images {n_images}\")\n",
    "    print(f\"total reads {n_reads}\")\n",
    "    print(f\"total anomalies {n_anomalies}\")\n",
    "    print()"
   ]
  },
  {
   "cell_type": "code",
   "execution_count": null,
   "id": "0bdeb2da",
   "metadata": {},
   "outputs": [],
   "source": [
    "# the entire conversion require around 10 secs."
   ]
  },
  {
   "cell_type": "code",
   "execution_count": null,
   "id": "bff33b1f",
   "metadata": {},
   "outputs": [],
   "source": []
  }
 ],
 "metadata": {
  "kernelspec": {
   "display_name": "Python [conda env:computervision_p37_gpu_v1]",
   "language": "python",
   "name": "conda-env-computervision_p37_gpu_v1-py"
  },
  "language_info": {
   "codemirror_mode": {
    "name": "ipython",
    "version": 3
   },
   "file_extension": ".py",
   "mimetype": "text/x-python",
   "name": "python",
   "nbconvert_exporter": "python",
   "pygments_lexer": "ipython3",
   "version": "3.7.8"
  }
 },
 "nbformat": 4,
 "nbformat_minor": 5
}
